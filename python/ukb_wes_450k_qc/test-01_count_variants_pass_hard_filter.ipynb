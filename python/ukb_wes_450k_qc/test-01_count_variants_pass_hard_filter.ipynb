{
 "cells": [
  {
   "cell_type": "code",
   "execution_count": null,
   "metadata": {
    "tags": [
     "parameters"
    ]
   },
   "outputs": [],
   "source": [
    "chrom = None"
   ]
  },
  {
   "cell_type": "code",
   "execution_count": 1,
   "metadata": {},
   "outputs": [
    {
     "name": "stderr",
     "output_type": "stream",
     "text": [
      "pip-installed Hail requires additional configuration options in Spark referring\n",
      "  to the path to the Hail Python module directory HAIL_DIR,\n",
      "  e.g. /path/to/python/site-packages/hail:\n",
      "    spark.jars=HAIL_DIR/hail-all-spark.jar\n",
      "    spark.driver.extraClassPath=HAIL_DIR/hail-all-spark.jar\n",
      "    spark.executor.extraClassPath=./hail-all-spark.jarRunning on Apache Spark version 2.4.4\n",
      "SparkUI available at http://ip-10-60-11-255.eu-west-2.compute.internal:8081\n"
     ]
    },
    {
     "name": "stdout",
     "output_type": "stream",
     "text": [
      "CPU times: user 3.36 s, sys: 3.97 s, total: 7.33 s\n",
      "Wall time: 7.2 s\n"
     ]
    },
    {
     "name": "stderr",
     "output_type": "stream",
     "text": [
      "Welcome to\n",
      "     __  __     <>__\n",
      "    / /_/ /__  __/ /\n",
      "   / __  / _ `/ / /\n",
      "  /_/ /_/\\_,_/_/_/   version 0.2.78-b17627756568\n",
      "LOGGING: writing to /opt/notebooks/hail-20220809-1228-0.2.78-b17627756568.log\n"
     ]
    }
   ],
   "source": [
    "%%time\n",
    "\n",
    "import pyspark\n",
    "import dxpy\n",
    "import hail as hl\n",
    "\n",
    "my_database = dxpy.find_one_data_object(\n",
    "    name=\"my_database\", \n",
    "    project=dxpy.find_one_project()[\"id\"]\n",
    ")[\"id\"]\n",
    "database_dir = f'dnax://{my_database}'\n",
    "sc = pyspark.SparkContext()\n",
    "spark = pyspark.sql.SparkSession(sc)\n",
    "hl.init(sc=sc, tmp_dir=f'{database_dir}/tmp/')\n"
   ]
  },
  {
   "cell_type": "code",
   "execution_count": 2,
   "metadata": {},
   "outputs": [
    {
     "name": "stdout",
     "output_type": "stream",
     "text": [
      "CPU times: user 121 ms, sys: 20.3 ms, total: 141 ms\n",
      "Wall time: 1min 17s\n"
     ]
    }
   ],
   "source": [
    "%%time\n",
    "\n",
    "chrom = chrom\n",
    "block = '*'\n",
    "\n",
    "vcf_dir='file:///mnt/project/Bulk/Exome sequences_Alternative exome processing/Exome variant call files (gnomAD) (VCFs)'\n",
    "vcf_path=f'{vcf_dir}/ukb24068_c{chrom}_b{block}_v1.vcf.gz'\n",
    "\n",
    "# SPECIFIC TO CHR21\n",
    "# assert len(hl.hadoop_ls(vcf_path))==400\n",
    "\n",
    "raw = hl.import_vcf(\n",
    "    vcf_path, \n",
    "    force_bgz=True,\n",
    "    reference_genome='GRCh38'\n",
    ")"
   ]
  },
  {
   "cell_type": "code",
   "execution_count": 2,
   "metadata": {},
   "outputs": [],
   "source": [
    "def get_ukb_genetic_sex():\n",
    "    # NOTE:\n",
    "    # 0 = Female\n",
    "    # 1 = Male\n",
    "    # \"\" = Undefined\n",
    "    sex = hl.import_table(\n",
    "        'file:///mnt/project/resources/ukb11867_sex.tsv', \n",
    "        key='eid', \n",
    "        types={\n",
    "            'eid': hl.tstr, \n",
    "            '22001-0.0_geneticsex': hl.tint\n",
    "        },\n",
    "        missing=''\n",
    "    )\n",
    "\n",
    "    sex = sex.rename({'eid':'s'})\n",
    "    \n",
    "    return sex\n",
    "\n",
    "def get_is_sex_defined_expr(mt):\n",
    "    sex = get_ukb_genetic_sex()\n",
    "    return hl.is_defined(sex[mt.s]['22001-0.0_geneticsex'])\n",
    "\n",
    "def get_maf_expr(mt):\n",
    "    return hl.min(mt.info.AF)\n",
    "\n",
    "def get_call_rate_expr(mt):\n",
    "    return hl.agg.mean(hl.is_defined(mt.GT))\n",
    "\n",
    "def get_mean_depth_expr(mt):\n",
    "    return hl.agg.mean(mt.DP)\n",
    "\n",
    "def variant_hard_filter_v2_0(mt):\n",
    "    # Get high quality, high coverage variants:\n",
    "    # \n",
    "    # AF > 0.1%\n",
    "    # call rate > 0.99\n",
    "    # bi-allelic SNV\n",
    "    # does not fail interval qc\n",
    "    \n",
    "    VARIANT_MAF_MIN = 0.001\n",
    "    VARIANT_CALL_RATE_MIN = 0.99\n",
    "\n",
    "    pass_maf = get_maf_expr(mt) > VARIANT_MAF_MIN\n",
    "    pass_call_rate = get_call_rate_expr(mt) > VARIANT_CALL_RATE_MIN\n",
    "    pass_is_snv = hl.is_snp(ref=mt.alleles[0], alt=mt.alleles[1])\n",
    "    pass_is_biallelic = mt.info.n_alt_alleles==1\n",
    "    \n",
    "    return mt.filter_rows(\n",
    "        pass_maf\n",
    "        & pass_call_rate\n",
    "        & pass_is_snv\n",
    "        & pass_is_biallelic\n",
    "        & ~mt.info.fail_interval_qc\n",
    "    )\n",
    "\n",
    "def export_table(ht, fname, out_folder):\n",
    "    ht.naive_coalesce(1).export(f'file:///opt/notebooks/{fname}')\n",
    "\n",
    "    dxpy.upload_local_file(\n",
    "        filename=f'/opt/notebooks/{fname}',\n",
    "        name=fname,\n",
    "        folder=out_folder,\n",
    "        parents=True\n",
    "    )"
   ]
  },
  {
   "cell_type": "code",
   "execution_count": null,
   "metadata": {},
   "outputs": [],
   "source": [
    "%%time\n",
    "\n",
    "mt = raw\n",
    "\n",
    "# Get high quality variants\n",
    "mt = variant_hard_filter_v2_0(mt)\n",
    "\n",
    "mt = mt.select_cols(\n",
    "    n_calls = hl.agg.sum(hl.is_defined(mt.GT)),\n",
    "    sum_dp = hl.agg.sum(mt.DP),\n",
    ")\n",
    "ht = mt.cols()\n",
    "\n",
    "fname = f'sample_call_rate_and_coverage_c{chrom}.tsv.gz'\n",
    "out_folder = '/data/01_calc_call_rate_and_coverage'\n",
    "\n",
    "export_table(\n",
    "    ht=ht, \n",
    "    fname=fname, \n",
    "    out_folder=out_folder\n",
    ")"
   ]
  }
 ],
 "metadata": {
  "celltoolbar": "Tags",
  "kernelspec": {
   "display_name": "Python 3",
   "language": "python",
   "name": "python3"
  },
  "language_info": {
   "codemirror_mode": {
    "name": "ipython",
    "version": 3
   },
   "file_extension": ".py",
   "mimetype": "text/x-python",
   "name": "python",
   "nbconvert_exporter": "python",
   "pygments_lexer": "ipython3",
   "version": "3.8.3"
  }
 },
 "nbformat": 4,
 "nbformat_minor": 4
}
