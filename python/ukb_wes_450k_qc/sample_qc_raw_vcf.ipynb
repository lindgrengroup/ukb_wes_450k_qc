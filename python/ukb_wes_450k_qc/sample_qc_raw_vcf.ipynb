{
 "cells": [
  {
   "cell_type": "code",
   "execution_count": null,
   "metadata": {},
   "outputs": [],
   "source": [
    "import pyspark\n",
    "import dxpy\n",
    "import hail as hl\n",
    "\n",
    "my_database = dxpy.find_one_data_object(\n",
    "    name=\"my_database\", \n",
    "    project=dxpy.find_one_project()[\"id\"]\n",
    ")[\"id\"]\n",
    "database_dir = f'dnax://{my_database}'\n",
    "sc = pyspark.SparkContext()\n",
    "spark = pyspark.sql.SparkSession(sc)\n",
    "hl.init(sc=sc, tmp_dir=f'{database_dir}/tmp/')\n",
    "\n",
    "chrom = 21\n",
    "block = '*'\n",
    "\n",
    "vcf_dir='file:///mnt/project/Bulk/Exome sequences_Alternative exome processing/Exome variant call files (gnomAD) (VCFs)'\n",
    "vcf_path=f'{vcf_dir}/ukb24068_c{chrom}_b{block}_v1.vcf.gz'\n",
    "\n",
    "# SPECIFIC TO CHR21\n",
    "assert len(hl.hadoop_ls(vcf_path))==400"
   ]
  },
  {
   "cell_type": "code",
   "execution_count": null,
   "metadata": {},
   "outputs": [],
   "source": [
    "%%time\n",
    "\n",
    "raw = hl.import_vcf(\n",
    "    vcf_path, \n",
    "    force_bgz=True,\n",
    "    reference_genome='GRCh38'\n",
    ")"
   ]
  },
  {
   "cell_type": "code",
   "execution_count": 7,
   "metadata": {},
   "outputs": [],
   "source": [
    "def export_table(ht, fname, out_folder):\n",
    "    ht.naive_coalesce(1).export(f'file:///opt/notebooks/{fname}')\n",
    "\n",
    "    dxpy.upload_local_file(\n",
    "        filename=f'/opt/notebooks/{fname}',\n",
    "        name=fname,\n",
    "        folder=out_folder,\n",
    "        parents=True\n",
    "    )\n",
    "    \n",
    "def export_sample_qc(mt, sample_qc_fname):\n",
    "    mt = hl.sample_qc(mt)\n",
    "\n",
    "    cols = mt.cols()\n",
    "    cols = cols.transmute(**cols.sample_qc.flatten())\n",
    "\n",
    "    export_table(\n",
    "        ht=cols,\n",
    "        fname=sample_qc_fname,\n",
    "        out_folder='/data/01_get_sample_stats'\n",
    "    )\n",
    "    \n",
    "# def export_variant_qc(mt, variant_qc_fname):\n",
    "#     mt = hl.variant_qc(mt)\n",
    "\n",
    "#     rows = mt.rows()\n",
    "#     rows = rows.transmute(**rows.variant_qc.flatten())\n",
    "\n",
    "#     variant_qc_path = f'{variant_qc_fname}'\n",
    "\n",
    "#     export_table(\n",
    "#         ht=rows,\n",
    "#         fname=variant_qc_fname,\n",
    "#         out_folder='/data/01_get_sample_stats'\n",
    "#     )"
   ]
  },
  {
   "cell_type": "code",
   "execution_count": null,
   "metadata": {},
   "outputs": [],
   "source": [
    "%%time\n",
    "\n",
    "export_sample_qc(\n",
    "    mt=raw,\n",
    "    sample_qc_fname=f'raw_sample_qc_c{chrom}.tsv.gz'\n",
    ")"
   ]
  }
 ],
 "metadata": {
  "kernelspec": {
   "display_name": "Python 3",
   "language": "python",
   "name": "python3"
  },
  "language_info": {
   "codemirror_mode": {
    "name": "ipython",
    "version": 3
   },
   "file_extension": ".py",
   "mimetype": "text/x-python",
   "name": "python",
   "nbconvert_exporter": "python",
   "pygments_lexer": "ipython3",
   "version": "3.8.3"
  }
 },
 "nbformat": 4,
 "nbformat_minor": 4
}
