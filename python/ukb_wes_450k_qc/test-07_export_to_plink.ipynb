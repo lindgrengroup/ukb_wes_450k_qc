{
 "cells": [
  {
   "cell_type": "code",
   "execution_count": null,
   "metadata": {
    "tags": [
     "parameters"
    ]
   },
   "outputs": [],
   "source": [
    "chrom = None"
   ]
  },
  {
   "cell_type": "code",
   "execution_count": 1,
   "metadata": {},
   "outputs": [],
   "source": [
    "import pyspark\n",
    "import dxpy\n",
    "import hail as hl\n",
    "import pandas as pd\n",
    "from math import ceil\n",
    "\n",
    "WD='/opt/notebooks'\n",
    "PLINK_EXPORT_DIR = '/data/07_export_to_plink'"
   ]
  },
  {
   "cell_type": "code",
   "execution_count": 2,
   "metadata": {},
   "outputs": [
    {
     "name": "stderr",
     "output_type": "stream",
     "text": [
      "pip-installed Hail requires additional configuration options in Spark referring\n",
      "  to the path to the Hail Python module directory HAIL_DIR,\n",
      "  e.g. /path/to/python/site-packages/hail:\n",
      "    spark.jars=HAIL_DIR/hail-all-spark.jar\n",
      "    spark.driver.extraClassPath=HAIL_DIR/hail-all-spark.jar\n",
      "    spark.executor.extraClassPath=./hail-all-spark.jarRunning on Apache Spark version 2.4.4\n",
      "SparkUI available at http://ip-10-60-118-82.eu-west-2.compute.internal:8081\n",
      "Welcome to\n",
      "     __  __     <>__\n",
      "    / /_/ /__  __/ /\n",
      "   / __  / _ `/ / /\n",
      "  /_/ /_/\\_,_/_/_/   version 0.2.78-b17627756568\n",
      "LOGGING: writing to /opt/notebooks/hail-20220928-1350-0.2.78-b17627756568.log\n"
     ]
    }
   ],
   "source": [
    "my_database = dxpy.find_one_data_object(\n",
    "    name=\"my_database\", \n",
    "    project=dxpy.find_one_project()[\"id\"]\n",
    ")[\"id\"]\n",
    "database_dir = f'dnax://{my_database}'\n",
    "sc = pyspark.SparkContext()\n",
    "spark = pyspark.sql.SparkSession(sc)\n",
    "hl.init(sc=sc)#, tmp_dir=f'{database_dir}/tmp/')"
   ]
  },
  {
   "cell_type": "code",
   "execution_count": 2,
   "metadata": {},
   "outputs": [
    {
     "name": "stderr",
     "output_type": "stream",
     "text": [
      "pip-installed Hail requires additional configuration options in Spark referring\n",
      "  to the path to the Hail Python module directory HAIL_DIR,\n",
      "  e.g. /path/to/python/site-packages/hail:\n",
      "    spark.jars=HAIL_DIR/hail-all-spark.jar\n",
      "    spark.driver.extraClassPath=HAIL_DIR/hail-all-spark.jar\n",
      "    spark.executor.extraClassPath=./hail-all-spark.jarRunning on Apache Spark version 2.4.4\n",
      "SparkUI available at http://ip-10-60-118-82.eu-west-2.compute.internal:8081\n",
      "Welcome to\n",
      "     __  __     <>__\n",
      "    / /_/ /__  __/ /\n",
      "   / __  / _ `/ / /\n",
      "  /_/ /_/\\_,_/_/_/   version 0.2.78-b17627756568\n",
      "LOGGING: writing to /opt/notebooks/hail-20220928-1343-0.2.78-b17627756568.log\n"
     ]
    }
   ],
   "source": [
    "# Alternative way to initialize Hail\n",
    "# From https://github.com/dnanexus/OpenBio/blob/master/hail_tutorial/export_bgen.ipynb\n",
    "\n",
    "from pyspark.sql import SparkSession\n",
    "\n",
    "builder = (\n",
    "    SparkSession\n",
    "    .builder\n",
    "    .enableHiveSupport()\n",
    ")\n",
    "spark = builder.getOrCreate()\n",
    "hl.init(sc=spark.sparkContext)"
   ]
  },
  {
   "cell_type": "markdown",
   "metadata": {},
   "source": [
    "## S0. Define functions, load data"
   ]
  },
  {
   "cell_type": "code",
   "execution_count": 7,
   "metadata": {},
   "outputs": [],
   "source": [
    "def get_final_filter_mt_path(chrom):\n",
    "    return f'{database_dir}/04_final_filter_write_to_mt/ukb_wes_450k.qced.chr{chrom}.mt'\n",
    "\n",
    "def get_final_filter_bfile_local_path_prefix(chrom):\n",
    "    return f'file:///opt/notebooks/ukb_wes_450k.qced.chr{chrom}'\n",
    "\n",
    "def get_final_filter_bfile_hadoop_path_prefix(chrom):\n",
    "    return f'{database_dir}/07_export_to_plink/ukb_wes_450k.qced.chr{chrom}'\n",
    "\n",
    "def export_local_files(paths, out_folder):\n",
    "    '''Export files\n",
    "    \n",
    "    :param paths: List of strings of path names (do not include 'file://' in front of path)\n",
    "    :param out_folder: DNAnexus folder to export to\n",
    "    '''\n",
    "    if type(paths)!=list:\n",
    "        paths = [paths]\n",
    "        \n",
    "    for file in files:\n",
    "        dxpy.upload_local_file(\n",
    "            filename=file,\n",
    "            name=file.split('/')[-1],\n",
    "            folder=out_folder,\n",
    "            parents=True\n",
    "        )\n",
    "        "
   ]
  },
  {
   "cell_type": "code",
   "execution_count": 5,
   "metadata": {},
   "outputs": [],
   "source": [
    "mt = hl.read_matrix_table(get_final_filter_mt_path(chrom=chrom))"
   ]
  },
  {
   "cell_type": "markdown",
   "metadata": {},
   "source": [
    "## S1. Export to PLINK"
   ]
  },
  {
   "cell_type": "code",
   "execution_count": 12,
   "metadata": {},
   "outputs": [
    {
     "name": "stderr",
     "output_type": "stream",
     "text": [
      "2022-09-28 14:04:13 Hail: INFO: merging 2859 files totalling 18.6G...\n",
      "2022-09-28 14:05:25 Hail: INFO: while writing:\n",
      "    file:///opt/notebooks/ukb_wes_450k.qced.chr21-tmp.bed\n",
      "  merge time: 1m12.7s\n",
      "2022-09-28 14:05:26 Hail: INFO: merging 2858 files totalling 7.8M...\n",
      "2022-09-28 14:05:35 Hail: INFO: while writing:\n",
      "    file:///opt/notebooks/ukb_wes_450k.qced.chr21-tmp.bim\n",
      "  merge time: 9.606s\n",
      "2022-09-28 14:05:38 Hail: INFO: merging 1116 files totalling 7.6M...\n"
     ]
    },
    {
     "name": "stdout",
     "output_type": "stream",
     "text": [
      "CPU times: user 158 ms, sys: 30.5 ms, total: 188 ms\n",
      "Wall time: 3min 9s\n"
     ]
    },
    {
     "name": "stderr",
     "output_type": "stream",
     "text": [
      "2022-09-28 14:05:41 Hail: INFO: while writing:\n",
      "    file:///opt/notebooks/ukb_wes_450k.qced.chr21-tmp.fam\n",
      "  merge time: 3.137s\n",
      "2022-09-28 14:05:41 Hail: INFO: wrote 190854 variants and 418156 samples to 'file:///opt/notebooks/ukb_wes_450k.qced.chr21-tmp'\n"
     ]
    }
   ],
   "source": [
    "%%time\n",
    "\n",
    "hl.export_plink(\n",
    "    dataset = mt,\n",
    "    output = get_final_filter_bfile_local_path_prefix(chrom=chrom),\n",
    ")"
   ]
  },
  {
   "cell_type": "code",
   "execution_count": null,
   "metadata": {},
   "outputs": [],
   "source": [
    "%%time\n",
    "\n",
    "export_local_files(\n",
    "    paths=[\n",
    "        get_final_filter_bfile_local_path_prefix(chrom=chrom)+f'.{suffix}' for suffix in ['bed','bim','fam']\n",
    "    ], \n",
    "    out_folder='/data/04_final_filter/plink/'\n",
    ")"
   ]
  }
 ],
 "metadata": {
  "kernelspec": {
   "display_name": "Python 3",
   "language": "python",
   "name": "python3"
  },
  "language_info": {
   "codemirror_mode": {
    "name": "ipython",
    "version": 3
   },
   "file_extension": ".py",
   "mimetype": "text/x-python",
   "name": "python",
   "nbconvert_exporter": "python",
   "pygments_lexer": "ipython3",
   "version": "3.8.3"
  }
 },
 "nbformat": 4,
 "nbformat_minor": 4
}
