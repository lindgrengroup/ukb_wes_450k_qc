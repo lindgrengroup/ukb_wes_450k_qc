{
 "cells": [
  {
   "cell_type": "code",
   "execution_count": null,
   "metadata": {
    "tags": [
     "parameters"
    ]
   },
   "outputs": [],
   "source": [
    "chrom = None"
   ]
  },
  {
   "cell_type": "code",
   "execution_count": 2,
   "metadata": {},
   "outputs": [
    {
     "name": "stdout",
     "output_type": "stream",
     "text": [
      "CPU times: user 3.26 s, sys: 3.97 s, total: 7.22 s\n",
      "Wall time: 1.81 s\n"
     ]
    }
   ],
   "source": [
    "%%time\n",
    "\n",
    "import pyspark\n",
    "import dxpy\n",
    "import hail as hl\n",
    "import pandas as pd"
   ]
  },
  {
   "cell_type": "code",
   "execution_count": 3,
   "metadata": {},
   "outputs": [
    {
     "name": "stderr",
     "output_type": "stream",
     "text": [
      "pip-installed Hail requires additional configuration options in Spark referring\n",
      "  to the path to the Hail Python module directory HAIL_DIR,\n",
      "  e.g. /path/to/python/site-packages/hail:\n",
      "    spark.jars=HAIL_DIR/hail-all-spark.jar\n",
      "    spark.driver.extraClassPath=HAIL_DIR/hail-all-spark.jar\n",
      "    spark.executor.extraClassPath=./hail-all-spark.jarRunning on Apache Spark version 2.4.4\n",
      "SparkUI available at http://ip-10-60-117-24.eu-west-2.compute.internal:8081\n",
      "Welcome to\n",
      "     __  __     <>__\n",
      "    / /_/ /__  __/ /\n",
      "   / __  / _ `/ / /\n",
      "  /_/ /_/\\_,_/_/_/   version 0.2.78-b17627756568\n",
      "LOGGING: writing to /opt/notebooks/hail-20220817-1105-0.2.78-b17627756568.log\n"
     ]
    }
   ],
   "source": [
    "my_database = dxpy.find_one_data_object(\n",
    "    name=\"my_database\", \n",
    "    project=dxpy.find_one_project()[\"id\"]\n",
    ")[\"id\"]\n",
    "database_dir = f'dnax://{my_database}'\n",
    "sc = pyspark.SparkContext()\n",
    "spark = pyspark.sql.SparkSession(sc)\n",
    "hl.init(sc=sc, tmp_dir=f'{database_dir}/tmp/')"
   ]
  },
  {
   "cell_type": "code",
   "execution_count": 4,
   "metadata": {},
   "outputs": [
    {
     "name": "stdout",
     "output_type": "stream",
     "text": [
      "CPU times: user 146 ms, sys: 51.4 ms, total: 197 ms\n",
      "Wall time: 4min 10s\n"
     ]
    }
   ],
   "source": [
    "%%time\n",
    "\n",
    "chrom = chrom\n",
    "block = '*'\n",
    "\n",
    "vcf_dir='file:///mnt/project/Bulk/Exome sequences_Alternative exome processing/Exome variant call files (gnomAD) (VCFs)'\n",
    "vcf_path=f'{vcf_dir}/ukb24068_c{chrom}_b{block}_v1.vcf.gz'\n",
    "\n",
    "# SPECIFIC TO CHR21\n",
    "# assert len(hl.hadoop_ls(vcf_path))==400\n",
    "\n",
    "raw = hl.import_vcf(\n",
    "    vcf_path, \n",
    "    force_bgz=True,\n",
    "    reference_genome='GRCh38'\n",
    ")"
   ]
  },
  {
   "cell_type": "code",
   "execution_count": 7,
   "metadata": {},
   "outputs": [],
   "source": [
    "def get_ukb_genetic_sex():\n",
    "    # NOTE:\n",
    "    # 0 = Female\n",
    "    # 1 = Male\n",
    "    # \"\" = Undefined\n",
    "    sex = hl.import_table(\n",
    "        'file:///mnt/project/resources/ukb11867_sex.tsv', \n",
    "        key='eid', \n",
    "        types={\n",
    "            'eid': hl.tstr, \n",
    "            '22001-0.0_geneticsex': hl.tint\n",
    "        },\n",
    "        missing=''\n",
    "    )\n",
    "\n",
    "    sex = sex.rename({'eid':'s'})\n",
    "    \n",
    "    return sex\n",
    "\n",
    "def get_is_sex_defined_expr(mt):\n",
    "    sex = get_ukb_genetic_sex()\n",
    "    return hl.is_defined(sex[mt.s]['22001-0.0_geneticsex'])\n",
    "\n",
    "def get_hard_filter_row_count_tsv_fname(chrom):\n",
    "    return f'variant_hard_filter_c{chrom}.tsv'\n",
    "\n",
    "def get_variant_count(chrom):\n",
    "    row_count_ht = hl.import_table(f'file:///mnt/project/data/01_calc_call_rate_and_coverage/{get_hard_filter_row_count_tsv_fname(chrom)}')\n",
    "    row_count_df = row_count_ht.to_pandas()\n",
    "    row_count = int(row_count_df['row_count'].values[0])\n",
    "    return row_count\n",
    "\n",
    "def get_pass_call_rate_and_coverage_ht(chrom_list, sample_call_rate_min, sample_coverage_min):\n",
    "    \n",
    "    def get_call_rate_and_coverage_tsv_path(chrom):\n",
    "        return f'file:///mnt/project/data/01_calc_call_rate_and_coverage/sample_call_rate_and_coverage_c{chrom}.tsv.gz'\n",
    "    \n",
    "    ht = hl.import_table(\n",
    "        get_call_rate_and_coverage_tsv_path(chrom_list[0]),\n",
    "        force=True,\n",
    "        types={\n",
    "            's':'str',\n",
    "            'n_calls': 'int',\n",
    "            'sum_dp': 'int'\n",
    "        },\n",
    "        key='s'\n",
    "    )\n",
    "\n",
    "    total_variants = get_variant_count(chrom_list[0])\n",
    "\n",
    "    for chrom in chrom_list[1:]:\n",
    "        ht_tmp = hl.import_table(\n",
    "            get_call_rate_and_coverage_tsv_path(chrom),\n",
    "            force=True,\n",
    "            types={\n",
    "                's':'str',\n",
    "                'n_calls': 'int',\n",
    "                'sum_dp': 'int'\n",
    "            },\n",
    "            key='s'\n",
    "        )\n",
    "\n",
    "        ht = ht.annotate(\n",
    "            **{field: ht[field]+ht_tmp[ht.s][field] for field in ['n_calls','sum_dp']}\n",
    "        )\n",
    "\n",
    "        total_variants += get_variant_count(chrom)\n",
    "\n",
    "    ht = ht.annotate(\n",
    "        call_rate = ht.n_calls/total_variants,\n",
    "        mean_dp = ht['sum_dp']/ht['n_calls']\n",
    "    )\n",
    "\n",
    "    pass_call_rate = ht.call_rate >= sample_call_rate_min\n",
    "    pass_coverage = ht.mean_dp >= sample_coverage_min\n",
    "\n",
    "    pass_samples = ht.filter(\n",
    "        pass_call_rate\n",
    "        & pass_coverage\n",
    "    )\n",
    "    \n",
    "    return pass_samples\n",
    "\n",
    "def get_is_withdrawn_expr(mt):\n",
    "    return (mt.s.startswith('W') | mt.s.startswith('-'))\n",
    "\n",
    "def sample_hard_filter(mt):\n",
    "    SAMPLE_CALL_RATE_MIN = 0.99\n",
    "    SAMPLE_COVERAGE_MIN = 20\n",
    "    \n",
    "    # TODO: Update when more chroms are added\n",
    "    chrom_list = [18,21]\n",
    "    \n",
    "    pass_samples = get_pass_call_rate_and_coverage_ht(\n",
    "        chrom_list = chrom_list,\n",
    "        sample_call_rate_min = SAMPLE_CALL_RATE_MIN,\n",
    "        sample_coverage_min = SAMPLE_COVERAGE_MIN\n",
    "    )\n",
    "    \n",
    "    pass_call_rate_and_coverage = hl.is_defined(pass_samples[mt.s])\n",
    "    \n",
    "    return mt.filter_cols(\n",
    "        get_is_sex_defined_expr(mt)\n",
    "        & pass_call_rate_and_coverage\n",
    "        & ~get_is_withdrawn_expr(mt)\n",
    "    )\n",
    "\n",
    "def pre_sample_qc_variant_filter(mt):\n",
    "    fail_interval_qc = mt.info.fail_interval_qc\n",
    "    fail_lcr = mt.info.lcr\n",
    "    fail_segdup = mt.info.segdup\n",
    "    \n",
    "    return mt.filter_rows(\n",
    "        fail_interval_qc\n",
    "        | fail_lcr\n",
    "        | fail_segdup,\n",
    "        keep=False\n",
    "    )\n",
    "\n",
    "def export_table(ht, fname, out_folder):\n",
    "    ht.naive_coalesce(1).export(f'file:///opt/notebooks/{fname}')\n",
    "\n",
    "    dxpy.upload_local_file(\n",
    "        filename=f'/opt/notebooks/{fname}',\n",
    "        name=fname,\n",
    "        folder=out_folder,\n",
    "        parents=True\n",
    "    )\n",
    "\n",
    "def run_hail_sample_qc(mt):\n",
    "    mt = sample_hard_filter(mt)\n",
    "    mt = pre_sample_qc_variant_filter(mt)\n",
    "\n",
    "    mt = hl.sample_qc(mt)\n",
    "\n",
    "    cols = mt.cols()\n",
    "    cols = cols.transmute(**cols.sample_qc.flatten())\n",
    "\n",
    "    export_table(\n",
    "        ht=cols,\n",
    "        fname=f'sample_qc_c{chrom}.v2.0.tsv.gz',\n",
    "        out_folder='/data/02_hail_sample_qc'\n",
    "    )"
   ]
  },
  {
   "cell_type": "code",
   "execution_count": null,
   "metadata": {},
   "outputs": [],
   "source": [
    "%%time\n",
    "\n",
    "run_hail_sample_qc(raw)"
   ]
  }
 ],
 "metadata": {
  "kernelspec": {
   "display_name": "Python 3",
   "language": "python",
   "name": "python3"
  },
  "language_info": {
   "codemirror_mode": {
    "name": "ipython",
    "version": 3
   },
   "file_extension": ".py",
   "mimetype": "text/x-python",
   "name": "python",
   "nbconvert_exporter": "python",
   "pygments_lexer": "ipython3",
   "version": "3.8.3"
  }
 },
 "nbformat": 4,
 "nbformat_minor": 4
}
