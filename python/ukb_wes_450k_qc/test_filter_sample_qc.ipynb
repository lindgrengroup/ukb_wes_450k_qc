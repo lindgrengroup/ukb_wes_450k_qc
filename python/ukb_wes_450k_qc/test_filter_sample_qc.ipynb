{
 "cells": [
  {
   "cell_type": "code",
   "execution_count": 1,
   "metadata": {},
   "outputs": [
    {
     "name": "stderr",
     "output_type": "stream",
     "text": [
      "pip-installed Hail requires additional configuration options in Spark referring\n",
      "  to the path to the Hail Python module directory HAIL_DIR,\n",
      "  e.g. /path/to/python/site-packages/hail:\n",
      "    spark.jars=HAIL_DIR/hail-all-spark.jar\n",
      "    spark.driver.extraClassPath=HAIL_DIR/hail-all-spark.jar\n",
      "    spark.executor.extraClassPath=./hail-all-spark.jarRunning on Apache Spark version 2.4.4\n",
      "SparkUI available at http://ip-10-60-67-223.eu-west-2.compute.internal:8081\n"
     ]
    },
    {
     "name": "stdout",
     "output_type": "stream",
     "text": [
      "CPU times: user 3.46 s, sys: 4.01 s, total: 7.47 s\n",
      "Wall time: 7.74 s\n"
     ]
    },
    {
     "name": "stderr",
     "output_type": "stream",
     "text": [
      "Welcome to\n",
      "     __  __     <>__\n",
      "    / /_/ /__  __/ /\n",
      "   / __  / _ `/ / /\n",
      "  /_/ /_/\\_,_/_/_/   version 0.2.78-b17627756568\n",
      "LOGGING: writing to /opt/notebooks/hail-20220808-1234-0.2.78-b17627756568.log\n"
     ]
    }
   ],
   "source": [
    "%%time\n",
    "\n",
    "import pyspark\n",
    "import dxpy\n",
    "import hail as hl\n",
    "\n",
    "my_database = dxpy.find_one_data_object(\n",
    "    name=\"my_database\", \n",
    "    project=dxpy.find_one_project()[\"id\"]\n",
    ")[\"id\"]\n",
    "database_dir = f'dnax://{my_database}'\n",
    "sc = pyspark.SparkContext()\n",
    "spark = pyspark.sql.SparkSession(sc)\n",
    "hl.init(sc=sc, tmp_dir=f'{database_dir}/tmp/')\n"
   ]
  },
  {
   "cell_type": "code",
   "execution_count": 2,
   "metadata": {},
   "outputs": [
    {
     "name": "stdout",
     "output_type": "stream",
     "text": [
      "CPU times: user 127 ms, sys: 62.9 ms, total: 190 ms\n",
      "Wall time: 3min 55s\n"
     ]
    }
   ],
   "source": [
    "%%time\n",
    "\n",
    "chrom = 21\n",
    "block = '*'\n",
    "\n",
    "vcf_dir='file:///mnt/project/Bulk/Exome sequences_Alternative exome processing/Exome variant call files (gnomAD) (VCFs)'\n",
    "vcf_path=f'{vcf_dir}/ukb24068_c{chrom}_b{block}_v1.vcf.gz'\n",
    "\n",
    "# SPECIFIC TO CHR21\n",
    "assert len(hl.hadoop_ls(vcf_path))==400\n",
    "\n",
    "raw = hl.import_vcf(\n",
    "    vcf_path, \n",
    "    force_bgz=True,\n",
    "    reference_genome='GRCh38'\n",
    ")"
   ]
  },
  {
   "cell_type": "code",
   "execution_count": 12,
   "metadata": {},
   "outputs": [],
   "source": [
    "def site_filter(mt):\n",
    "    MIN_DP = 10\n",
    "    MIN_GQ = 20\n",
    "\n",
    "    pass_dp = mt.DP>=MIN_DP\n",
    "    pass_gq = mt.GQ>=MIN_GQ\n",
    "\n",
    "    pass_ab_het = mt.GT.is_het() & (mt.AD[1]/mt.DP>0.2)\n",
    "    pass_ab = ~mt.GT.is_het() | pass_ab_het\n",
    "    mt = mt.filter_entries(pass_dp & pass_gq & pass_ab)\n",
    "\n",
    "    return mt\n",
    "\n",
    "def get_filter_contains_rf_expr(mt):\n",
    "    return mt.filters.contains('RF')\n",
    "\n",
    "def get_fail_interval_qc_expr(mt):\n",
    "    return mt.info.fail_interval_qc\n",
    "\n",
    "def get_lcr_expr(mt):\n",
    "    return mt.info.lcr\n",
    "\n",
    "def get_segdup_expr(mt):\n",
    "    return mt.info.segdup\n",
    "\n",
    "def variant_filter(mt):\n",
    "    return mt.filter_rows(\n",
    "        get_filter_contains_rf_expr(mt)\n",
    "        | get_fail_interval_qc_expr(mt)\n",
    "        | get_lcr_expr(mt)\n",
    "        | get_segdup_expr(mt),\n",
    "        keep=False\n",
    "    )\n",
    "\n",
    "def export_table(ht, fname, out_folder):\n",
    "    ht.naive_coalesce(1).export(f'file:///opt/notebooks/{fname}')\n",
    "\n",
    "    dxpy.upload_local_file(\n",
    "        filename=f'/opt/notebooks/{fname}',\n",
    "        name=fname,\n",
    "        folder=out_folder,\n",
    "        parents=True\n",
    "    )"
   ]
  },
  {
   "cell_type": "code",
   "execution_count": 10,
   "metadata": {},
   "outputs": [
    {
     "name": "stderr",
     "output_type": "stream",
     "text": [
      "2022-08-08 13:15:56 Hail: INFO: Coerced sorted dataset\n",
      "2022-08-08 13:28:26 Hail: INFO: Coerced sorted dataset\n",
      "2022-08-08 13:28:28 Hail: INFO: Coerced sorted dataset\n",
      "2022-08-08 13:28:51 Hail: INFO: merging 1 files totalling 24.4M...\n",
      "2022-08-08 13:28:52 Hail: INFO: while writing:\n",
      "    file:///opt/notebooks/sample_qc_c21.tsv.gz\n",
      "  merge time: 1.319s\n"
     ]
    },
    {
     "ename": "NameError",
     "evalue": "name 'sample_qc_fname' is not defined",
     "output_type": "error",
     "traceback": [
      "\u001b[0;31m---------------------------------------------------------------------------\u001b[0m",
      "\u001b[0;31mNameError\u001b[0m                                 Traceback (most recent call last)",
      "\u001b[0;32m<timed exec>\u001b[0m in \u001b[0;36m<module>\u001b[0;34m\u001b[0m\n",
      "\u001b[0;32m<ipython-input-6-8a71ab8aa974>\u001b[0m in \u001b[0;36mexport_table\u001b[0;34m(ht, fname, out_folder)\u001b[0m\n\u001b[1;32m     38\u001b[0m     dxpy.upload_local_file(\n\u001b[1;32m     39\u001b[0m         \u001b[0mfilename\u001b[0m\u001b[0;34m=\u001b[0m\u001b[0;34mf'/opt/notebooks/{fname}'\u001b[0m\u001b[0;34m,\u001b[0m\u001b[0;34m\u001b[0m\u001b[0m\n\u001b[0;32m---> 40\u001b[0;31m         \u001b[0mname\u001b[0m\u001b[0;34m=\u001b[0m\u001b[0msample_qc_fname\u001b[0m\u001b[0;34m,\u001b[0m\u001b[0;34m\u001b[0m\u001b[0m\n\u001b[0m\u001b[1;32m     41\u001b[0m         \u001b[0mfolder\u001b[0m\u001b[0;34m=\u001b[0m\u001b[0mout_folder\u001b[0m\u001b[0;34m,\u001b[0m\u001b[0;34m\u001b[0m\u001b[0m\n\u001b[1;32m     42\u001b[0m         \u001b[0mparents\u001b[0m\u001b[0;34m=\u001b[0m\u001b[0;32mTrue\u001b[0m\u001b[0;34m\u001b[0m\u001b[0m\n",
      "\u001b[0;31mNameError\u001b[0m: name 'sample_qc_fname' is not defined"
     ]
    }
   ],
   "source": [
    "%%time\n",
    "\n",
    "filtered = variant_filter(raw)\n",
    "filtered = site_filter(filtered)\n",
    "filtered = hl.sample_qc(filtered)\n",
    "\n",
    "cols = filtered.cols()\n",
    "cols = cols.transmute(**cols.sample_qc.flatten())\n",
    "\n",
    "export_table(\n",
    "    ht=cols,\n",
    "    fname=f'sample_qc_c{chrom}.tsv.gz',\n",
    "    out_folder='/data/01_get_sample_stats'\n",
    ")"
   ]
  },
  {
   "cell_type": "code",
   "execution_count": 21,
   "metadata": {},
   "outputs": [
    {
     "name": "stderr",
     "output_type": "stream",
     "text": [
      "2022-08-08 11:02:53 Hail: INFO: Coerced sorted dataset\n"
     ]
    },
    {
     "data": {
      "text/plain": [
       "0.0639835"
      ]
     },
     "execution_count": 21,
     "metadata": {},
     "output_type": "execute_result"
    }
   ],
   "source": [
    "raw.aggregate_rows(hl.agg.max(raw.filters.contains('RF')*(raw.info.rf_tp_probability)))"
   ]
  },
  {
   "cell_type": "code",
   "execution_count": 9,
   "metadata": {},
   "outputs": [
    {
     "name": "stderr",
     "output_type": "stream",
     "text": [
      "2022-08-08 13:04:29 Hail: INFO: Coerced sorted dataset\n"
     ]
    },
    {
     "data": {
      "text/plain": [
       "0.962104"
      ]
     },
     "execution_count": 9,
     "metadata": {},
     "output_type": "execute_result"
    }
   ],
   "source": [
    "raw.aggregate_rows(hl.agg.max((~raw.filters.contains('RF'))*(raw.info.rf_tp_probability)))"
   ]
  },
  {
   "cell_type": "code",
   "execution_count": 14,
   "metadata": {},
   "outputs": [
    {
     "name": "stderr",
     "output_type": "stream",
     "text": [
      "2022-08-08 10:02:36 Hail: INFO: Coerced sorted dataset\n",
      "2022-08-08 10:05:05 Hail: INFO: Coerced sorted dataset\n"
     ]
    },
    {
     "data": {
      "text/plain": [
       "0.36494180957996286"
      ]
     },
     "execution_count": 14,
     "metadata": {},
     "output_type": "execute_result"
    }
   ],
   "source": [
    "raw.aggregate_rows(hl.agg.mean((~raw.info.fail_interval_qc)|(raw.info.lcr)&(raw.info.fail_interval_qc)))"
   ]
  },
  {
   "cell_type": "code",
   "execution_count": 16,
   "metadata": {},
   "outputs": [
    {
     "name": "stderr",
     "output_type": "stream",
     "text": [
      "2022-08-08 10:29:50 Hail: INFO: Coerced sorted dataset\n"
     ]
    },
    {
     "name": "stdout",
     "output_type": "stream",
     "text": [
      "CPU times: user 86.5 ms, sys: 62.3 ms, total: 149 ms\n",
      "Wall time: 7min 13s\n"
     ]
    },
    {
     "data": {
      "text/plain": [
       "0.807862660944206"
      ]
     },
     "execution_count": 16,
     "metadata": {},
     "output_type": "execute_result"
    }
   ],
   "source": [
    "%%time\n",
    "\n",
    "lcr = raw.filter_rows(raw.info.lcr)\n",
    "lcr.aggregate_rows(hl.agg.mean(lcr.info.fail_interval_qc))"
   ]
  },
  {
   "cell_type": "code",
   "execution_count": 17,
   "metadata": {},
   "outputs": [
    {
     "name": "stderr",
     "output_type": "stream",
     "text": [
      "2022-08-08 10:39:17 Hail: INFO: Coerced sorted dataset\n"
     ]
    },
    {
     "data": {
      "text/plain": [
       "(472672, 454671)"
      ]
     },
     "execution_count": 17,
     "metadata": {},
     "output_type": "execute_result"
    }
   ],
   "source": [
    "raw.filter_rows(raw.info.fail_interval_qc).count()"
   ]
  },
  {
   "cell_type": "code",
   "execution_count": 18,
   "metadata": {},
   "outputs": [
    {
     "name": "stderr",
     "output_type": "stream",
     "text": [
      "2022-08-08 10:46:38 Hail: INFO: Coerced sorted dataset\n"
     ]
    },
    {
     "data": {
      "text/plain": [
       "(29125, 454671)"
      ]
     },
     "execution_count": 18,
     "metadata": {},
     "output_type": "execute_result"
    }
   ],
   "source": [
    "raw.filter_rows(raw.info.lcr).count()"
   ]
  },
  {
   "cell_type": "code",
   "execution_count": null,
   "metadata": {},
   "outputs": [],
   "source": [
    "#\n",
    "# overlap is (0.8078...)*(lcr count)\n",
    "# 0.807862660944206* 29125 = 23529\n",
    "# "
   ]
  },
  {
   "cell_type": "code",
   "execution_count": null,
   "metadata": {},
   "outputs": [],
   "source": [
    "%%time\n",
    "\n",
    "lcr.filter_rows()"
   ]
  },
  {
   "cell_type": "code",
   "execution_count": null,
   "metadata": {},
   "outputs": [],
   "source": [
    "raw.aggregate_rows(hl.agg.mean(raw.info.nonpar))"
   ]
  },
  {
   "cell_type": "code",
   "execution_count": null,
   "metadata": {},
   "outputs": [],
   "source": [
    "%%time\n",
    "\n",
    "chrom = X\n",
    "block = '*'\n",
    "\n",
    "vcf_dir='file:///mnt/project/Bulk/Exome sequences_Alternative exome processing/Exome variant call files (gnomAD) (VCFs)'\n",
    "vcf_path=f'{vcf_dir}/ukb24068_c{chrom}_b{block}_v1.vcf.gz'\n",
    "\n",
    "# SPECIFIC TO CHR21\n",
    "# assert len(hl.hadoop_ls(vcf_path))==400\n",
    "\n",
    "chrX = hl.import_vcf(\n",
    "    vcf_path, \n",
    "    force_bgz=True,\n",
    "    reference_genome='GRCh38'\n",
    ")"
   ]
  },
  {
   "cell_type": "code",
   "execution_count": null,
   "metadata": {},
   "outputs": [],
   "source": [
    "chr21.aggregate_rows(hl.agg.mean(chr21.info.nonpar))"
   ]
  },
  {
   "cell_type": "code",
   "execution_count": 4,
   "metadata": {},
   "outputs": [],
   "source": [
    "# %%time\n",
    "\n",
    "# try:\n",
    "#     raw = raw.annotate_rows(call_rate = hl.agg.mean(hl.is_defined(raw.GT)))\n",
    "\n",
    "#     export_table(\n",
    "#         ht=raw.cols(),\n",
    "#         fname='ukb_wes_450k.rf_gt_filter.variant_call_rate.tsv.gz',\n",
    "#         out_folder='/data/01_get_sample_stats'\n",
    "#     )\n",
    "# except:\n",
    "#     print('Oops, this failed')"
   ]
  }
 ],
 "metadata": {
  "kernelspec": {
   "display_name": "Python 3",
   "language": "python",
   "name": "python3"
  },
  "language_info": {
   "codemirror_mode": {
    "name": "ipython",
    "version": 3
   },
   "file_extension": ".py",
   "mimetype": "text/x-python",
   "name": "python",
   "nbconvert_exporter": "python",
   "pygments_lexer": "ipython3",
   "version": "3.8.3"
  }
 },
 "nbformat": 4,
 "nbformat_minor": 4
}
